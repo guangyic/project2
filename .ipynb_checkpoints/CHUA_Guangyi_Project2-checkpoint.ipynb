{
 "cells": [
  {
   "cell_type": "markdown",
   "metadata": {},
   "source": [
    "<img src=\"http://imgur.com/1ZcRyrc.png\" style=\"float: left; margin: 15px; height: 80px\">\n",
    "\n",
    "# Project 2\n",
    "\n",
    "### Exploratory Data Analysis (EDA)\n",
    "\n",
    "---\n",
    "\n",
    "Your hometown mayor just created a new data analysis team to give policy advice, and the administration recruited _you_ via LinkedIn to join it. Unfortunately, due to budget constraints, for now the \"team\" is just you...\n",
    "\n",
    "The mayor wants to start a new initiative to move the needle on one of two separate issues: high school education outcomes, or drug abuse in the community.\n",
    "\n",
    "Also unfortunately, that is the entirety of what you've been told. And the mayor just went on a lobbyist-funded fact-finding trip in the Bahamas. In the meantime, you got your hands on two national datasets: one on SAT scores by state, and one on drug use by age. Start exploring these to look for useful patterns and possible hypotheses!\n",
    "\n",
    "---\n",
    "\n",
    "This project is focused on exploratory data analysis, aka \"EDA\". EDA is an essential part of the data science analysis pipeline. Failure to perform EDA before modeling is almost guaranteed to lead to bad models and faulty conclusions. What you do in this project are good practices for all projects going forward, especially those after this bootcamp!\n",
    "\n",
    "This lab includes a variety of plotting problems. Much of the plotting code will be left up to you to find either in the lecture notes, or if not there, online. There are massive amounts of code snippets either in documentation or sites like [Stack Overflow](https://stackoverflow.com/search?q=%5Bpython%5D+seaborn) that have almost certainly done what you are trying to do.\n",
    "\n",
    "**Get used to googling for code!** You will use it every single day as a data scientist, especially for visualization and plotting.\n",
    "\n",
    "#### Package imports"
   ]
  },
  {
   "cell_type": "code",
   "execution_count": 24,
   "metadata": {
    "collapsed": true
   },
   "outputs": [],
   "source": [
    "import numpy as np\n",
    "import scipy.stats as stats\n",
    "import csv\n",
    "import pandas as pd\n",
    "from pprint import pprint\n",
    "\n",
    "# this line tells jupyter notebook to put the plots in the notebook rather than saving them to file.\n",
    "%matplotlib inline\n",
    "\n",
    "# this line makes plots prettier on mac retina screens. If you don't have one it shouldn't do anything.\n",
    "%config InlineBackend.figure_format = 'retina'"
   ]
  },
  {
   "cell_type": "markdown",
   "metadata": {},
   "source": [
    "<img src=\"http://imgur.com/l5NasQj.png\" style=\"float: left; margin: 25px 15px 0px 0px; height: 25px\">\n",
    "\n",
    "## 1. Load the `sat_scores.csv` dataset and describe it\n",
    "\n",
    "---\n",
    "\n",
    "You should replace the placeholder path to the `sat_scores.csv` dataset below with your specific path to the file.\n",
    "\n",
    "### 1.1 Load the file with the `csv` module and put it in a Python dictionary\n",
    "\n",
    "The dictionary format for data will be the column names as key, and the data under each column as the values.\n",
    "\n",
    "Toy example:\n",
    "```python\n",
    "data = {\n",
    "    'column1':[0,1,2,3],\n",
    "    'column2':['a','b','c','d']\n",
    "    }\n",
    "```"
   ]
  },
  {
   "cell_type": "code",
   "execution_count": 25,
   "metadata": {},
   "outputs": [
    {
     "data": {
      "text/plain": [
       "[{'Math': '510', 'Rate': '82', 'State': 'CT', 'Verbal': '509'},\n",
       " {'Math': '513', 'Rate': '81', 'State': 'NJ', 'Verbal': '499'},\n",
       " {'Math': '515', 'Rate': '79', 'State': 'MA', 'Verbal': '511'},\n",
       " {'Math': '505', 'Rate': '77', 'State': 'NY', 'Verbal': '495'},\n",
       " {'Math': '516', 'Rate': '72', 'State': 'NH', 'Verbal': '520'},\n",
       " {'Math': '499', 'Rate': '71', 'State': 'RI', 'Verbal': '501'},\n",
       " {'Math': '499', 'Rate': '71', 'State': 'PA', 'Verbal': '500'},\n",
       " {'Math': '506', 'Rate': '69', 'State': 'VT', 'Verbal': '511'},\n",
       " {'Math': '500', 'Rate': '69', 'State': 'ME', 'Verbal': '506'},\n",
       " {'Math': '501', 'Rate': '68', 'State': 'VA', 'Verbal': '510'},\n",
       " {'Math': '499', 'Rate': '67', 'State': 'DE', 'Verbal': '501'},\n",
       " {'Math': '510', 'Rate': '65', 'State': 'MD', 'Verbal': '508'},\n",
       " {'Math': '499', 'Rate': '65', 'State': 'NC', 'Verbal': '493'},\n",
       " {'Math': '489', 'Rate': '63', 'State': 'GA', 'Verbal': '491'},\n",
       " {'Math': '501', 'Rate': '60', 'State': 'IN', 'Verbal': '499'},\n",
       " {'Math': '488', 'Rate': '57', 'State': 'SC', 'Verbal': '486'},\n",
       " {'Math': '474', 'Rate': '56', 'State': 'DC', 'Verbal': '482'},\n",
       " {'Math': '526', 'Rate': '55', 'State': 'OR', 'Verbal': '526'},\n",
       " {'Math': '499', 'Rate': '54', 'State': 'FL', 'Verbal': '498'},\n",
       " {'Math': '527', 'Rate': '53', 'State': 'WA', 'Verbal': '527'},\n",
       " {'Math': '499', 'Rate': '53', 'State': 'TX', 'Verbal': '493'},\n",
       " {'Math': '515', 'Rate': '52', 'State': 'HI', 'Verbal': '485'},\n",
       " {'Math': '510', 'Rate': '51', 'State': 'AK', 'Verbal': '514'},\n",
       " {'Math': '517', 'Rate': '51', 'State': 'CA', 'Verbal': '498'},\n",
       " {'Math': '525', 'Rate': '34', 'State': 'AZ', 'Verbal': '523'},\n",
       " {'Math': '515', 'Rate': '33', 'State': 'NV', 'Verbal': '509'},\n",
       " {'Math': '542', 'Rate': '31', 'State': 'CO', 'Verbal': '539'},\n",
       " {'Math': '439', 'Rate': '26', 'State': 'OH', 'Verbal': '534'},\n",
       " {'Math': '539', 'Rate': '23', 'State': 'MT', 'Verbal': '539'},\n",
       " {'Math': '512', 'Rate': '18', 'State': 'WV', 'Verbal': '527'},\n",
       " {'Math': '542', 'Rate': '17', 'State': 'ID', 'Verbal': '543'},\n",
       " {'Math': '553', 'Rate': '13', 'State': 'TN', 'Verbal': '562'},\n",
       " {'Math': '542', 'Rate': '13', 'State': 'NM', 'Verbal': '551'},\n",
       " {'Math': '589', 'Rate': '12', 'State': 'IL', 'Verbal': '576'},\n",
       " {'Math': '550', 'Rate': '12', 'State': 'KY', 'Verbal': '550'},\n",
       " {'Math': '545', 'Rate': '11', 'State': 'WY', 'Verbal': '547'},\n",
       " {'Math': '572', 'Rate': '11', 'State': 'MI', 'Verbal': '561'},\n",
       " {'Math': '589', 'Rate': '9', 'State': 'MN', 'Verbal': '580'},\n",
       " {'Math': '580', 'Rate': '9', 'State': 'KS', 'Verbal': '577'},\n",
       " {'Math': '554', 'Rate': '9', 'State': 'AL', 'Verbal': '559'},\n",
       " {'Math': '568', 'Rate': '8', 'State': 'NE', 'Verbal': '562'},\n",
       " {'Math': '561', 'Rate': '8', 'State': 'OK', 'Verbal': '567'},\n",
       " {'Math': '577', 'Rate': '8', 'State': 'MO', 'Verbal': '577'},\n",
       " {'Math': '562', 'Rate': '7', 'State': 'LA', 'Verbal': '564'},\n",
       " {'Math': '596', 'Rate': '6', 'State': 'WI', 'Verbal': '584'},\n",
       " {'Math': '550', 'Rate': '6', 'State': 'AR', 'Verbal': '562'},\n",
       " {'Math': '570', 'Rate': '5', 'State': 'UT', 'Verbal': '575'},\n",
       " {'Math': '603', 'Rate': '5', 'State': 'IA', 'Verbal': '593'},\n",
       " {'Math': '582', 'Rate': '4', 'State': 'SD', 'Verbal': '577'},\n",
       " {'Math': '599', 'Rate': '4', 'State': 'ND', 'Verbal': '592'},\n",
       " {'Math': '551', 'Rate': '4', 'State': 'MS', 'Verbal': '566'},\n",
       " {'Math': '514', 'Rate': '45', 'State': 'All', 'Verbal': '506'}]"
      ]
     },
     "execution_count": 25,
     "metadata": {},
     "output_type": "execute_result"
    }
   ],
   "source": [
    "path = \"/Users/GuangYi/Documents/GitHub/project2/sat_scores.csv\"\n",
    "reader = csv.DictReader(open(path, 'rb'))\n",
    "dict_list = []\n",
    "\n",
    "for line in reader:\n",
    "    dict_list.append(line)\n",
    "\n",
    "dict_list"
   ]
  },
  {
   "cell_type": "code",
   "execution_count": 204,
   "metadata": {},
   "outputs": [],
   "source": [
    "path = \"/Users/GuangYi/Documents/GitHub/project2/sat_scores.csv\"\n",
    "dict_items = []\n",
    "with open(path, 'rb') as f:\n",
    "    reader = csv.reader(f)\n",
    "    for row in reader:\n",
    "        dict_items.append(row)\n",
    "\n",
    "item_list = []\n",
    "holder = [0] * len(dict_items[0])\n",
    "\n",
    "for a in range(len(dict_items[0])) :\n",
    "\n",
    "    for b in range(1,len(dict_items)) :\n",
    "        values_list = dict_items[b][a]\n",
    "        item_list.append(values_list)\n",
    "\n",
    "    holder[a] = item_list\n",
    "    item_list = []\n",
    "\n",
    "dictionary = dict(zip(dict_items[0], holder))"
   ]
  },
  {
   "cell_type": "code",
   "execution_count": 203,
   "metadata": {},
   "outputs": [
    {
     "name": "stdout",
     "output_type": "stream",
     "text": [
      "{'Math': ['510',\n",
      "          '513',\n",
      "          '515',\n",
      "          '505',\n",
      "          '516',\n",
      "          '499',\n",
      "          '499',\n",
      "          '506',\n",
      "          '500',\n",
      "          '501',\n",
      "          '499',\n",
      "          '510',\n",
      "          '499',\n",
      "          '489',\n",
      "          '501',\n",
      "          '488',\n",
      "          '474',\n",
      "          '526',\n",
      "          '499',\n",
      "          '527',\n",
      "          '499',\n",
      "          '515',\n",
      "          '510',\n",
      "          '517',\n",
      "          '525',\n",
      "          '515',\n",
      "          '542',\n",
      "          '439',\n",
      "          '539',\n",
      "          '512',\n",
      "          '542',\n",
      "          '553',\n",
      "          '542',\n",
      "          '589',\n",
      "          '550',\n",
      "          '545',\n",
      "          '572',\n",
      "          '589',\n",
      "          '580',\n",
      "          '554',\n",
      "          '568',\n",
      "          '561',\n",
      "          '577',\n",
      "          '562',\n",
      "          '596',\n",
      "          '550',\n",
      "          '570',\n",
      "          '603',\n",
      "          '582',\n",
      "          '599',\n",
      "          '551',\n",
      "          '514'],\n",
      " 'Rate': ['82',\n",
      "          '81',\n",
      "          '79',\n",
      "          '77',\n",
      "          '72',\n",
      "          '71',\n",
      "          '71',\n",
      "          '69',\n",
      "          '69',\n",
      "          '68',\n",
      "          '67',\n",
      "          '65',\n",
      "          '65',\n",
      "          '63',\n",
      "          '60',\n",
      "          '57',\n",
      "          '56',\n",
      "          '55',\n",
      "          '54',\n",
      "          '53',\n",
      "          '53',\n",
      "          '52',\n",
      "          '51',\n",
      "          '51',\n",
      "          '34',\n",
      "          '33',\n",
      "          '31',\n",
      "          '26',\n",
      "          '23',\n",
      "          '18',\n",
      "          '17',\n",
      "          '13',\n",
      "          '13',\n",
      "          '12',\n",
      "          '12',\n",
      "          '11',\n",
      "          '11',\n",
      "          '9',\n",
      "          '9',\n",
      "          '9',\n",
      "          '8',\n",
      "          '8',\n",
      "          '8',\n",
      "          '7',\n",
      "          '6',\n",
      "          '6',\n",
      "          '5',\n",
      "          '5',\n",
      "          '4',\n",
      "          '4',\n",
      "          '4',\n",
      "          '45'],\n",
      " 'State': ['CT',\n",
      "           'NJ',\n",
      "           'MA',\n",
      "           'NY',\n",
      "           'NH',\n",
      "           'RI',\n",
      "           'PA',\n",
      "           'VT',\n",
      "           'ME',\n",
      "           'VA',\n",
      "           'DE',\n",
      "           'MD',\n",
      "           'NC',\n",
      "           'GA',\n",
      "           'IN',\n",
      "           'SC',\n",
      "           'DC',\n",
      "           'OR',\n",
      "           'FL',\n",
      "           'WA',\n",
      "           'TX',\n",
      "           'HI',\n",
      "           'AK',\n",
      "           'CA',\n",
      "           'AZ',\n",
      "           'NV',\n",
      "           'CO',\n",
      "           'OH',\n",
      "           'MT',\n",
      "           'WV',\n",
      "           'ID',\n",
      "           'TN',\n",
      "           'NM',\n",
      "           'IL',\n",
      "           'KY',\n",
      "           'WY',\n",
      "           'MI',\n",
      "           'MN',\n",
      "           'KS',\n",
      "           'AL',\n",
      "           'NE',\n",
      "           'OK',\n",
      "           'MO',\n",
      "           'LA',\n",
      "           'WI',\n",
      "           'AR',\n",
      "           'UT',\n",
      "           'IA',\n",
      "           'SD',\n",
      "           'ND',\n",
      "           'MS',\n",
      "           'All'],\n",
      " 'Verbal': ['509',\n",
      "            '499',\n",
      "            '511',\n",
      "            '495',\n",
      "            '520',\n",
      "            '501',\n",
      "            '500',\n",
      "            '511',\n",
      "            '506',\n",
      "            '510',\n",
      "            '501',\n",
      "            '508',\n",
      "            '493',\n",
      "            '491',\n",
      "            '499',\n",
      "            '486',\n",
      "            '482',\n",
      "            '526',\n",
      "            '498',\n",
      "            '527',\n",
      "            '493',\n",
      "            '485',\n",
      "            '514',\n",
      "            '498',\n",
      "            '523',\n",
      "            '509',\n",
      "            '539',\n",
      "            '534',\n",
      "            '539',\n",
      "            '527',\n",
      "            '543',\n",
      "            '562',\n",
      "            '551',\n",
      "            '576',\n",
      "            '550',\n",
      "            '547',\n",
      "            '561',\n",
      "            '580',\n",
      "            '577',\n",
      "            '559',\n",
      "            '562',\n",
      "            '567',\n",
      "            '577',\n",
      "            '564',\n",
      "            '584',\n",
      "            '562',\n",
      "            '575',\n",
      "            '593',\n",
      "            '577',\n",
      "            '592',\n",
      "            '566',\n",
      "            '506']}\n"
     ]
    }
   ],
   "source": [
    "pprint(dictionary)"
   ]
  },
  {
   "cell_type": "markdown",
   "metadata": {},
   "source": [
    "### 1.2 Make a pandas DataFrame object with the SAT dictionary, and another with the pandas `.read_csv()` function\n",
    "\n",
    "Compare the DataFrames using the `.dtypes` attribute in the DataFrame objects. What is the difference between loading from file and inputting this dictionary (if any)?"
   ]
  },
  {
   "cell_type": "code",
   "execution_count": null,
   "metadata": {},
   "outputs": [],
   "source": []
  },
  {
   "cell_type": "markdown",
   "metadata": {},
   "source": [
    "If you did not convert the string column values to float in your dictionary, the columns in the DataFrame are of type `object` (which are string values, essentially). "
   ]
  },
  {
   "cell_type": "markdown",
   "metadata": {},
   "source": [
    "### 1.3 Look at the first ten rows of the DataFrame: what does our data describe?\n",
    "\n",
    "From now on, use the DataFrame loaded from the file using the `.read_csv()` function.\n",
    "\n",
    "Use the `.head(num)` built-in DataFrame function, where `num` is the number of rows to print out.\n",
    "\n",
    "You are not given a \"codebook\" with this data, so you will have to make some (very minor) inference."
   ]
  },
  {
   "cell_type": "code",
   "execution_count": null,
   "metadata": {},
   "outputs": [],
   "source": []
  },
  {
   "cell_type": "markdown",
   "metadata": {},
   "source": [
    "<img src=\"http://imgur.com/l5NasQj.png\" style=\"float: left; margin: 25px 15px 0px 0px; height: 25px\">\n",
    "\n",
    "## 2. Create a \"data dictionary\" based on the data\n",
    "\n",
    "---\n",
    "\n",
    "A data dictionary is an object that describes your data. This should contain the name of each variable (column), the type of the variable, your description of what the variable is, and the shape (rows and columns) of the entire dataset."
   ]
  },
  {
   "cell_type": "code",
   "execution_count": null,
   "metadata": {},
   "outputs": [],
   "source": []
  },
  {
   "cell_type": "markdown",
   "metadata": {},
   "source": [
    "<img src=\"http://imgur.com/l5NasQj.png\" style=\"float: left; margin: 25px 15px 0px 0px; height: 25px\">\n",
    "\n",
    "## 3. Plot the data using seaborn\n",
    "\n",
    "---\n",
    "\n",
    "### 3.1 Using seaborn's `distplot`, plot the distributions for each of `Rate`, `Math`, and `Verbal`\n",
    "\n",
    "Set the keyword argument `kde=False`. This way you can actually see the counts within bins. You can adjust the number of bins to your liking. \n",
    "\n",
    "[Please read over the `distplot` documentation to learn about the arguments and fine-tune your chart if you want.](https://stanford.edu/~mwaskom/software/seaborn/generated/seaborn.distplot.html#seaborn.distplot)"
   ]
  },
  {
   "cell_type": "code",
   "execution_count": null,
   "metadata": {},
   "outputs": [],
   "source": []
  },
  {
   "cell_type": "markdown",
   "metadata": {},
   "source": [
    "### 3.2 Using seaborn's `pairplot`, show the joint distributions for each of `Rate`, `Math`, and `Verbal`\n",
    "\n",
    "Explain what the visualization tells you about your data.\n",
    "\n",
    "[Please read over the `pairplot` documentation to fine-tune your chart.](https://stanford.edu/~mwaskom/software/seaborn/generated/seaborn.pairplot.html#seaborn.pairplot)"
   ]
  },
  {
   "cell_type": "code",
   "execution_count": null,
   "metadata": {},
   "outputs": [],
   "source": []
  },
  {
   "cell_type": "markdown",
   "metadata": {},
   "source": [
    "<img src=\"http://imgur.com/l5NasQj.png\" style=\"float: left; margin: 25px 15px 0px 0px; height: 25px\">\n",
    "\n",
    "## 4. Plot the data using built-in pandas functions.\n",
    "\n",
    "---\n",
    "\n",
    "Pandas is very powerful and contains a variety of nice, built-in plotting functions for your data. Read the documentation here to understand the capabilities:\n",
    "\n",
    "http://pandas.pydata.org/pandas-docs/stable/visualization.html\n",
    "\n",
    "### 4.1 Plot a stacked histogram with `Verbal` and `Math` using pandas"
   ]
  },
  {
   "cell_type": "code",
   "execution_count": null,
   "metadata": {},
   "outputs": [],
   "source": []
  },
  {
   "cell_type": "markdown",
   "metadata": {},
   "source": [
    "### 4.2 Plot `Verbal` and `Math` on the same chart using boxplots\n",
    "\n",
    "What are the benefits of using a boxplot as compared to a scatterplot or a histogram?\n",
    "\n",
    "What's wrong with plotting a box-plot of `Rate` on the same chart as `Math` and `Verbal`?"
   ]
  },
  {
   "cell_type": "code",
   "execution_count": null,
   "metadata": {},
   "outputs": [],
   "source": []
  },
  {
   "cell_type": "markdown",
   "metadata": {},
   "source": [
    "<img src=\"http://imgur.com/xDpSobf.png\" style=\"float: left; margin: 25px 15px 0px 0px; height: 25px\">\n",
    "\n",
    "### 4.3 Plot `Verbal`, `Math`, and `Rate` appropriately on the same boxplot chart\n",
    "\n",
    "Think about how you might change the variables so that they would make sense on the same chart. Explain your rationale for the choices on the chart. You should strive to make the chart as intuitive as possible. \n"
   ]
  },
  {
   "cell_type": "code",
   "execution_count": null,
   "metadata": {},
   "outputs": [],
   "source": []
  },
  {
   "cell_type": "markdown",
   "metadata": {},
   "source": [
    "<img src=\"http://imgur.com/l5NasQj.png\" style=\"float: left; margin: 25px 15px 0px 0px; height: 25px\">\n",
    "\n",
    "## 5. Create and examine subsets of the data\n",
    "\n",
    "---\n",
    "\n",
    "For these questions you will practice **masking** in pandas. Masking uses conditional statements to select portions of your DataFrame (through boolean operations under the hood.)\n",
    "\n",
    "Remember the distinction between DataFrame indexing functions in pandas:\n",
    "\n",
    "    .iloc[row, col] : row and column are specified by index, which are integers\n",
    "    .loc[row, col]  : row and column are specified by string \"labels\" (boolean arrays are allowed; useful for rows)\n",
    "    .ix[row, col]   : row and column indexers can be a mix of labels and integer indices\n",
    "    \n",
    "For detailed reference and tutorial make sure to read over the pandas documentation:\n",
    "\n",
    "http://pandas.pydata.org/pandas-docs/stable/indexing.html\n",
    "\n",
    "\n",
    "\n",
    "### 5.1 Find the list of states that have `Verbal` scores greater than the average of `Verbal` scores across states\n",
    "\n",
    "How many states are above the mean? What does this tell you about the distribution of `Verbal` scores?\n",
    "\n",
    "\n"
   ]
  },
  {
   "cell_type": "code",
   "execution_count": null,
   "metadata": {},
   "outputs": [],
   "source": []
  },
  {
   "cell_type": "markdown",
   "metadata": {},
   "source": [
    "### 5.2 Find the list of states that have `Verbal` scores greater than the median of `Verbal` scores across states\n",
    "\n",
    "How does this compare to the list of states greater than the mean of `Verbal` scores? Why?"
   ]
  },
  {
   "cell_type": "code",
   "execution_count": null,
   "metadata": {},
   "outputs": [],
   "source": []
  },
  {
   "cell_type": "markdown",
   "metadata": {},
   "source": [
    "### 5.3 Create a column that is the difference between the `Verbal` and `Math` scores\n",
    "\n",
    "Specifically, this should be `Verbal - Math`."
   ]
  },
  {
   "cell_type": "code",
   "execution_count": null,
   "metadata": {},
   "outputs": [],
   "source": []
  },
  {
   "cell_type": "markdown",
   "metadata": {},
   "source": [
    "### 5.4 Create two new DataFrames showing states with the greatest difference between scores\n",
    "\n",
    "1. Your first DataFrame should be the 10 states with the greatest gap between `Verbal` and `Math` scores where `Verbal` is greater than `Math`. It should be sorted appropriately to show the ranking of states.\n",
    "2. Your second DataFrame will be the inverse: states with the greatest gap between `Verbal` and `Math` such that `Math` is greater than `Verbal`. Again, this should be sorted appropriately to show rank.\n",
    "3. Print the header of both variables, only showing the top 3 states in each."
   ]
  },
  {
   "cell_type": "code",
   "execution_count": null,
   "metadata": {},
   "outputs": [],
   "source": []
  },
  {
   "cell_type": "markdown",
   "metadata": {},
   "source": [
    "## 6. Examine summary statistics\n",
    "\n",
    "---\n",
    "\n",
    "Checking the summary statistics for data is an essential step in the EDA process!\n",
    "\n",
    "<img src=\"http://imgur.com/l5NasQj.png\" style=\"float: left; margin: 25px 15px 0px 0px; height: 25px\">\n",
    "\n",
    "### 6.1 Create the correlation matrix of your variables (excluding `State`).\n",
    "\n",
    "What does the correlation matrix tell you?\n"
   ]
  },
  {
   "cell_type": "code",
   "execution_count": null,
   "metadata": {},
   "outputs": [],
   "source": []
  },
  {
   "cell_type": "markdown",
   "metadata": {},
   "source": [
    "<img src=\"http://imgur.com/l5NasQj.png\" style=\"float: left; margin: 25px 15px 0px 0px; height: 25px\">\n",
    "\n",
    "### 6.2 Use pandas'  `.describe()` built-in function on your DataFrame\n",
    "\n",
    "Write up what each of the rows returned by the function indicate."
   ]
  },
  {
   "cell_type": "code",
   "execution_count": null,
   "metadata": {},
   "outputs": [],
   "source": []
  },
  {
   "cell_type": "markdown",
   "metadata": {},
   "source": [
    "<img src=\"http://imgur.com/xDpSobf.png\" style=\"float: left; margin: 25px 15px 0px 0px; height: 25px\">\n",
    "\n",
    "### 6.3 Assign and print the _covariance_ matrix for the dataset\n",
    "\n",
    "1. Describe how the covariance matrix is different from the correlation matrix.\n",
    "2. What is the process to convert the covariance into the correlation?\n",
    "3. Why is the correlation matrix preferred to the covariance matrix for examining relationships in your data?"
   ]
  },
  {
   "cell_type": "code",
   "execution_count": null,
   "metadata": {},
   "outputs": [],
   "source": []
  },
  {
   "cell_type": "markdown",
   "metadata": {},
   "source": [
    "<img src=\"http://imgur.com/l5NasQj.png\" style=\"float: left; margin: 25px 15px 0px 0px; height: 25px\">\n",
    "\n",
    "## 7. Performing EDA on \"drug use by age\" data.\n",
    "\n",
    "---\n",
    "\n",
    "You will now switch datasets to one with many more variables. This section of the project is more open-ended - use the techniques you practiced above!\n",
    "\n",
    "We'll work with the \"drug-use-by-age.csv\" data, sourced from and described here: https://github.com/fivethirtyeight/data/tree/master/drug-use-by-age.\n",
    "\n",
    "### 7.1\n",
    "\n",
    "Load the data using pandas. Does this data require cleaning? Are variables missing? How will this affect your approach to EDA on the data?"
   ]
  },
  {
   "cell_type": "code",
   "execution_count": null,
   "metadata": {},
   "outputs": [],
   "source": []
  },
  {
   "cell_type": "markdown",
   "metadata": {},
   "source": [
    "### 7.2 Do a high-level, initial overview of the data\n",
    "\n",
    "Get a feel for what this dataset is all about.\n",
    "\n",
    "Use whichever techniques you'd like, including those from the SAT dataset EDA. The final response to this question should be a written description of what you infer about the dataset.\n",
    "\n",
    "Some things to consider doing:\n",
    "\n",
    "- Look for relationships between variables and subsets of those variables' values\n",
    "- Derive new features from the ones available to help your analysis\n",
    "- Visualize everything!"
   ]
  },
  {
   "cell_type": "code",
   "execution_count": null,
   "metadata": {},
   "outputs": [],
   "source": []
  },
  {
   "cell_type": "markdown",
   "metadata": {},
   "source": [
    "### 7.3 Create a testable hypothesis about this data\n",
    "\n",
    "Requirements for the question:\n",
    "\n",
    "1. Write a specific question you would like to answer with the data (that can be accomplished with EDA).\n",
    "2. Write a description of the \"deliverables\": what will you report after testing/examining your hypothesis?\n",
    "3. Use EDA techniques of your choice, numeric and/or visual, to look into your question.\n",
    "4. Write up your report on what you have found regarding the hypothesis about the data you came up with.\n",
    "\n",
    "\n",
    "Your hypothesis could be on:\n",
    "\n",
    "- Difference of group means\n",
    "- Correlations between variables\n",
    "- Anything else you think is interesting, testable, and meaningful!\n",
    "\n",
    "**Important notes:**\n",
    "\n",
    "You should be only doing EDA _relevant to your question_ here. It is easy to go down rabbit holes trying to look at every facet of your data, and so we want you to get in the practice of specifying a hypothesis you are interested in first and scoping your work to specifically answer that question.\n",
    "\n",
    "Some of you may want to jump ahead to \"modeling\" data to answer your question. This is a topic addressed in the next project and **you should not do this for this project.** We specifically want you to not do modeling to emphasize the importance of performing EDA _before_ you jump to statistical analysis."
   ]
  },
  {
   "cell_type": "markdown",
   "metadata": {
    "collapsed": true
   },
   "source": [
    "** Question and deliverables**\n",
    "\n",
    "\n",
    "..."
   ]
  },
  {
   "cell_type": "code",
   "execution_count": 2,
   "metadata": {
    "collapsed": true
   },
   "outputs": [],
   "source": [
    "# Code"
   ]
  },
  {
   "cell_type": "markdown",
   "metadata": {},
   "source": [
    "**Report**\n",
    "\n",
    "\n",
    "\n",
    "..."
   ]
  },
  {
   "cell_type": "markdown",
   "metadata": {},
   "source": [
    "<img src=\"http://imgur.com/xDpSobf.png\" style=\"float: left; margin: 25px 15px 0px 0px; height: 25px\">\n",
    "\n",
    "## 8. Introduction to dealing with outliers\n",
    "\n",
    "---\n",
    "\n",
    "Outliers are an interesting problem in statistics, in that there is not an agreed upon best way to define them. Subjectivity in selecting and analyzing data is a problem that will recur throughout the course.\n",
    "\n",
    "1. Pull out the rate variable from the sat dataset.\n",
    "2. Are there outliers in the dataset? Define, in words, how you _numerically define outliers._\n",
    "3. Print out the outliers in the dataset.\n",
    "4. Remove the outliers from the dataset.\n",
    "5. Compare the mean, median, and standard deviation of the \"cleaned\" data without outliers to the original. What is different about them and why?"
   ]
  },
  {
   "cell_type": "code",
   "execution_count": null,
   "metadata": {},
   "outputs": [],
   "source": []
  },
  {
   "cell_type": "markdown",
   "metadata": {},
   "source": [
    "<img src=\"http://imgur.com/GCAf1UX.png\" style=\"float: left; margin: 25px 15px 0px 0px; height: 25px\">\n",
    "\n",
    "### 9. Percentile scoring and spearman rank correlation\n",
    "\n",
    "---\n",
    "\n",
    "### 9.1 Calculate the spearman correlation of sat `Verbal` and `Math`\n",
    "\n",
    "1. How does the spearman correlation compare to the pearson correlation? \n",
    "2. Describe clearly in words the process of calculating the spearman rank correlation.\n",
    "  - Hint: the word \"rank\" is in the name of the process for a reason!\n"
   ]
  },
  {
   "cell_type": "code",
   "execution_count": null,
   "metadata": {
    "collapsed": true
   },
   "outputs": [],
   "source": []
  },
  {
   "cell_type": "markdown",
   "metadata": {},
   "source": [
    "### 9.2 Percentile scoring\n",
    "\n",
    "Look up percentile scoring of data. In other words, the conversion of numeric data to their equivalent percentile scores.\n",
    "\n",
    "http://docs.scipy.org/doc/numpy-dev/reference/generated/numpy.percentile.html\n",
    "\n",
    "http://docs.scipy.org/doc/scipy/reference/generated/scipy.stats.percentileofscore.html\n",
    "\n",
    "1. Convert `Rate` to percentiles in the sat scores as a new column.\n",
    "2. Show the percentile of California in `Rate`.\n",
    "3. How is percentile related to the spearman rank correlation?"
   ]
  },
  {
   "cell_type": "code",
   "execution_count": null,
   "metadata": {},
   "outputs": [],
   "source": []
  },
  {
   "cell_type": "markdown",
   "metadata": {},
   "source": [
    "### 9.3 Percentiles and outliers\n",
    "\n",
    "1. Why might percentile scoring be useful for dealing with outliers?\n",
    "2. Plot the distribution of a variable of your choice from the drug use dataset.\n",
    "3. Plot the same variable but percentile scored.\n",
    "4. Describe the effect, visually, of coverting raw scores to percentile."
   ]
  },
  {
   "cell_type": "code",
   "execution_count": null,
   "metadata": {},
   "outputs": [],
   "source": []
  }
 ],
 "metadata": {
  "kernelspec": {
   "display_name": "Python 2",
   "language": "python",
   "name": "python2"
  },
  "language_info": {
   "codemirror_mode": {
    "name": "ipython",
    "version": 2
   },
   "file_extension": ".py",
   "mimetype": "text/x-python",
   "name": "python",
   "nbconvert_exporter": "python",
   "pygments_lexer": "ipython2",
   "version": "2.7.13"
  }
 },
 "nbformat": 4,
 "nbformat_minor": 1
}
